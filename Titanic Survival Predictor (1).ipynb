{
 "cells": [
  {
   "cell_type": "code",
   "execution_count": 11,
   "id": "9d2d8140",
   "metadata": {},
   "outputs": [
    {
     "data": {
      "text/plain": [
       "'start\\n    read csv file\\n    graphs of each datapoint wrt another datapoint\\n    specify each age group,financial status(based on class of coach)\\n    Compare and predict survival\\n   stop'"
      ]
     },
     "execution_count": 11,
     "metadata": {},
     "output_type": "execute_result"
    }
   ],
   "source": [
    "'''Titanic Classification :\n",
    "Make a system which tells whether the person will be\n",
    "save from sinking. What factors were\n",
    "most likely lead to success-socio-economic\n",
    "status, age, gender and more.'''\n",
    "\n",
    "#pseudocode\n",
    "'''start\n",
    "    read csv file\n",
    "    graphs of each datapoint wrt another datapoint\n",
    "    specify each age group,financial status(based on class of coach)\n",
    "    Compare and predict survival\n",
    "   stop'''"
   ]
  },
  {
   "cell_type": "code",
   "execution_count": 19,
   "id": "ef21dabf",
   "metadata": {},
   "outputs": [
    {
     "name": "stdout",
     "output_type": "stream",
     "text": [
      "Enter passenger class (1, 2, 3): 3\n",
      "Enter passenger gender (0 for female, 1 for male): 0\n",
      "Enter passenger age: 15\n",
      "Enter the number of siblings/spouses aboard: 0\n",
      "Enter the number of parents/children aboard: 0\n",
      "Enter the fare: 10.235\n",
      "Enter the port of embarkation (0 for C, 1 for Q, 2 for S): 1\n",
      "The person is unlikely to survive.\n",
      "Accuracy: 0.7696629213483146\n",
      "Confusion Matrix:\n",
      "[[84 25]\n",
      " [16 53]]\n",
      "Classification Report:\n",
      "              precision    recall  f1-score   support\n",
      "\n",
      "           0       0.84      0.77      0.80       109\n",
      "           1       0.68      0.77      0.72        69\n",
      "\n",
      "    accuracy                           0.77       178\n",
      "   macro avg       0.76      0.77      0.76       178\n",
      "weighted avg       0.78      0.77      0.77       178\n",
      "\n"
     ]
    }
   ],
   "source": [
    "import pandas as pd\n",
    "import numpy as np\n",
    "import seaborn as sns\n",
    "from sklearn.model_selection import train_test_split\n",
    "from sklearn.preprocessing import LabelEncoder, StandardScaler\n",
    "from sklearn.linear_model import LogisticRegression\n",
    "from sklearn.metrics import accuracy_score, confusion_matrix, classification_report\n",
    "\n",
    "# Load the dataset\n",
    "titanic_data = pd.read_csv('Titanic-Dataset.csv')\n",
    "# Handle missing values\n",
    "titanic_data.drop(['Cabin', 'Ticket'], axis=1, inplace=True)\n",
    "titanic_data.dropna(subset=['Embarked'], inplace=True)\n",
    "titanic_data['Age'].fillna(titanic_data['Age'].median(), inplace=True)\n",
    "\n",
    "# Encode categorical features\n",
    "label_encoder = LabelEncoder()\n",
    "titanic_data['Sex'] = label_encoder.fit_transform(titanic_data['Sex'])  # Fit and transform on training data\n",
    "titanic_data['Embarked'] = label_encoder.fit_transform(titanic_data['Embarked'])  # Fit and transform on training data\n",
    "\n",
    "# Select relevant features and target variable\n",
    "X = titanic_data[['Pclass', 'Sex', 'Age', 'SibSp', 'Parch', 'Fare', 'Embarked']]\n",
    "y = titanic_data['Survived']\n",
    "\n",
    "# Standardize features\n",
    "scaler = StandardScaler()\n",
    "X = scaler.fit_transform(X)\n",
    "X_train, X_test, y_train, y_test = train_test_split(X, y, test_size=0.2, random_state=42)\n",
    "\n",
    "clf = LogisticRegression(random_state=42)\n",
    "clf.fit(X_train, y_train)\n",
    "\n",
    "# Get user input\n",
    "pclass = int(input(\"Enter passenger class (1, 2, 3): \"))\n",
    "sex = input(\"Enter passenger gender (0 for female, 1 for male): \")\n",
    "age = int(input(\"Enter passenger age: \"))\n",
    "sibsp = int(input(\"Enter the number of siblings/spouses aboard: \"))\n",
    "parch = int(input(\"Enter the number of parents/children aboard: \"))\n",
    "fare = float(input(\"Enter the fare: \"))\n",
    "embarked = input(\"Enter the port of embarkation (0 for C, 1 for Q, 2 for S): \")\n",
    "\n",
    "# Transform the user input for 'Sex' and 'Embarked' to integer values\n",
    "sex = 0 if sex == 'female' else 1\n",
    "embarked_mapping = {'c': 0, 'q': 1, 's': 2}\n",
    "embarked = embarked_mapping.get(embarked, -1)  # Default to -1 if input is not recognized\n",
    "\n",
    "user_input = {\n",
    "  'Pclass': [pclass],\n",
    "  'Sex': [sex],\n",
    "  'Age': [age],\n",
    "  'SibSp':[sibsp],\n",
    "  'Parch': [parch],\n",
    "  'Fare': [fare],\n",
    "  'Embarked': [embarked]\n",
    "}\n",
    "\n",
    "# Create a DataFrame from user input\n",
    "user_data = pd.DataFrame(user_input)\n",
    "\n",
    "# Standardize user input\n",
    "user_data = scaler.transform(user_data)\n",
    "\n",
    "# Make a survival prediction\n",
    "survival_prediction = clf.predict(user_data)\n",
    "\n",
    "if survival_prediction[0] == 1:\n",
    "    print(\"The person is likely to survive.\")\n",
    "else:\n",
    "    print(\"The person is unlikely to survive.\")\n",
    "\n",
    "# Calculate accuracy and display classification report\n",
    "y_pred = clf.predict(X_test)\n",
    "accuracy = accuracy_score(y_test, y_pred)\n",
    "conf_matrix = confusion_matrix(y_test, y_pred)\n",
    "class_report = classification_report(y_test, y_pred)\n",
    "\n",
    "print(f'Accuracy: {accuracy}')\n",
    "print(f'Confusion Matrix:\\n{conf_matrix}')\n",
    "print(f'Classification Report:\\n{class_report}')"
   ]
  },
  {
   "cell_type": "code",
   "execution_count": 20,
   "id": "5bb1fcc9",
   "metadata": {},
   "outputs": [
    {
     "name": "stdout",
     "output_type": "stream",
     "text": [
      "Requirement already satisfied: nbconvert in c:\\users\\siddh\\anaconda3\\lib\\site-packages (6.1.0)Note: you may need to restart the kernel to use updated packages.\n",
      "\n",
      "Requirement already satisfied: mistune<2,>=0.8.1 in c:\\users\\siddh\\anaconda3\\lib\\site-packages (from nbconvert) (0.8.4)\n",
      "Requirement already satisfied: nbclient<0.6.0,>=0.5.0 in c:\\users\\siddh\\anaconda3\\lib\\site-packages (from nbconvert) (0.5.3)\n",
      "Requirement already satisfied: testpath in c:\\users\\siddh\\anaconda3\\lib\\site-packages (from nbconvert) (0.5.0)\n",
      "Requirement already satisfied: traitlets>=5.0 in c:\\users\\siddh\\anaconda3\\lib\\site-packages (from nbconvert) (5.1.0)\n",
      "Requirement already satisfied: jinja2>=2.4 in c:\\users\\siddh\\anaconda3\\lib\\site-packages (from nbconvert) (2.11.3)\n",
      "Requirement already satisfied: nbformat>=4.4 in c:\\users\\siddh\\anaconda3\\lib\\site-packages (from nbconvert) (5.1.3)\n",
      "Requirement already satisfied: defusedxml in c:\\users\\siddh\\anaconda3\\lib\\site-packages (from nbconvert) (0.7.1)\n",
      "Requirement already satisfied: pygments>=2.4.1 in c:\\users\\siddh\\anaconda3\\lib\\site-packages (from nbconvert) (2.14.0)\n",
      "Requirement already satisfied: entrypoints>=0.2.2 in c:\\users\\siddh\\anaconda3\\lib\\site-packages (from nbconvert) (0.3)\n",
      "Requirement already satisfied: bleach in c:\\users\\siddh\\anaconda3\\lib\\site-packages (from nbconvert) (4.0.0)\n",
      "Requirement already satisfied: pandocfilters>=1.4.1 in c:\\users\\siddh\\anaconda3\\lib\\site-packages (from nbconvert) (1.4.3)\n",
      "Requirement already satisfied: jupyter-core in c:\\users\\siddh\\anaconda3\\lib\\site-packages (from nbconvert) (4.8.1)\n",
      "Requirement already satisfied: jupyterlab-pygments in c:\\users\\siddh\\anaconda3\\lib\\site-packages (from nbconvert) (0.1.2)\n",
      "Requirement already satisfied: MarkupSafe>=0.23 in c:\\users\\siddh\\anaconda3\\lib\\site-packages (from jinja2>=2.4->nbconvert) (1.1.1)\n",
      "Requirement already satisfied: async-generator in c:\\users\\siddh\\anaconda3\\lib\\site-packages (from nbclient<0.6.0,>=0.5.0->nbconvert) (1.10)\n",
      "Requirement already satisfied: nest-asyncio in c:\\users\\siddh\\anaconda3\\lib\\site-packages (from nbclient<0.6.0,>=0.5.0->nbconvert) (1.5.1)\n",
      "Requirement already satisfied: jupyter-client>=6.1.5 in c:\\users\\siddh\\anaconda3\\lib\\site-packages (from nbclient<0.6.0,>=0.5.0->nbconvert) (6.1.12)\n",
      "Requirement already satisfied: pyzmq>=13 in c:\\users\\siddh\\anaconda3\\lib\\site-packages (from jupyter-client>=6.1.5->nbclient<0.6.0,>=0.5.0->nbconvert) (22.2.1)\n",
      "Requirement already satisfied: tornado>=4.1 in c:\\users\\siddh\\anaconda3\\lib\\site-packages (from jupyter-client>=6.1.5->nbclient<0.6.0,>=0.5.0->nbconvert) (6.1)\n",
      "Requirement already satisfied: python-dateutil>=2.1 in c:\\users\\siddh\\anaconda3\\lib\\site-packages (from jupyter-client>=6.1.5->nbclient<0.6.0,>=0.5.0->nbconvert) (2.8.2)\n",
      "Requirement already satisfied: pywin32>=1.0 in c:\\users\\siddh\\anaconda3\\lib\\site-packages (from jupyter-core->nbconvert) (228)\n",
      "Requirement already satisfied: ipython-genutils in c:\\users\\siddh\\anaconda3\\lib\\site-packages (from nbformat>=4.4->nbconvert) (0.2.0)\n",
      "Requirement already satisfied: jsonschema!=2.5.0,>=2.4 in c:\\users\\siddh\\anaconda3\\lib\\site-packages (from nbformat>=4.4->nbconvert) (3.2.0)\n",
      "Requirement already satisfied: setuptools in c:\\users\\siddh\\anaconda3\\lib\\site-packages (from jsonschema!=2.5.0,>=2.4->nbformat>=4.4->nbconvert) (58.0.4)\n",
      "Requirement already satisfied: six>=1.11.0 in c:\\users\\siddh\\anaconda3\\lib\\site-packages (from jsonschema!=2.5.0,>=2.4->nbformat>=4.4->nbconvert) (1.16.0)\n",
      "Requirement already satisfied: attrs>=17.4.0 in c:\\users\\siddh\\anaconda3\\lib\\site-packages (from jsonschema!=2.5.0,>=2.4->nbformat>=4.4->nbconvert) (21.2.0)\n",
      "Requirement already satisfied: pyrsistent>=0.14.0 in c:\\users\\siddh\\anaconda3\\lib\\site-packages (from jsonschema!=2.5.0,>=2.4->nbformat>=4.4->nbconvert) (0.18.0)\n",
      "Requirement already satisfied: packaging in c:\\users\\siddh\\anaconda3\\lib\\site-packages (from bleach->nbconvert) (21.0)\n",
      "Requirement already satisfied: webencodings in c:\\users\\siddh\\anaconda3\\lib\\site-packages (from bleach->nbconvert) (0.5.1)\n",
      "Requirement already satisfied: pyparsing>=2.0.2 in c:\\users\\siddh\\anaconda3\\lib\\site-packages (from packaging->bleach->nbconvert) (3.0.4)\n"
     ]
    }
   ],
   "source": [
    "pip install nbconvert"
   ]
  },
  {
   "cell_type": "code",
   "execution_count": 23,
   "id": "de83ef37",
   "metadata": {},
   "outputs": [
    {
     "ename": "SyntaxError",
     "evalue": "invalid syntax (Temp/ipykernel_7244/1958550568.py, line 1)",
     "output_type": "error",
     "traceback": [
      "\u001b[1;36m  File \u001b[1;32m\"C:\\Users\\siddh\\AppData\\Local\\Temp/ipykernel_7244/1958550568.py\"\u001b[1;36m, line \u001b[1;32m1\u001b[0m\n\u001b[1;33m    jupyter nbconvert --to pdf \"Titanic Survival Predictor.ipynb\"\u001b[0m\n\u001b[1;37m            ^\u001b[0m\n\u001b[1;31mSyntaxError\u001b[0m\u001b[1;31m:\u001b[0m invalid syntax\n"
     ]
    }
   ],
   "source": [
    "jupyter nbconvert --to pdf \"Titanic Survival Predictor.ipynb\""
   ]
  },
  {
   "cell_type": "code",
   "execution_count": null,
   "id": "cc9d53e7",
   "metadata": {},
   "outputs": [],
   "source": []
  },
  {
   "cell_type": "code",
   "execution_count": null,
   "id": "06446257",
   "metadata": {},
   "outputs": [],
   "source": []
  }
 ],
 "metadata": {
  "kernelspec": {
   "display_name": "Python 3 (ipykernel)",
   "language": "python",
   "name": "python3"
  },
  "language_info": {
   "codemirror_mode": {
    "name": "ipython",
    "version": 3
   },
   "file_extension": ".py",
   "mimetype": "text/x-python",
   "name": "python",
   "nbconvert_exporter": "python",
   "pygments_lexer": "ipython3",
   "version": "3.9.7"
  }
 },
 "nbformat": 4,
 "nbformat_minor": 5
}
